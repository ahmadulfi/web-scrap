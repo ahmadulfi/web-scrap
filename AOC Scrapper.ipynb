{
 "cells": [
  {
   "cell_type": "code",
   "execution_count": 25,
   "metadata": {},
   "outputs": [],
   "source": [
    "import pandas as pd\n",
    "import os\n",
    "from selenium import webdriver\n",
    "from selenium.webdriver.chrome.service import Service\n",
    "from selenium.webdriver.chrome.options import Options\n",
    "from selenium.webdriver.common.by import By\n",
    "from selenium.webdriver.support.ui import WebDriverWait\n",
    "from selenium.webdriver.support import expected_conditions as EC\n",
    "import time\n",
    "from IPython.display import clear_output\n",
    "from datetime import datetime\n",
    "import requests"
   ]
  },
  {
   "cell_type": "code",
   "execution_count": 2,
   "metadata": {},
   "outputs": [],
   "source": [
    "# Input path ke chromedriver.exe\n",
    "path_chromedriver = os.path.join(os.getcwd(), \"chromedriver-win64\", \"chromedriver.exe\")\n",
    "\n",
    "chrome_options = Options()\n",
    "service = Service(executable_path=path_chromedriver)"
   ]
  },
  {
   "cell_type": "code",
   "execution_count": 66,
   "metadata": {},
   "outputs": [],
   "source": [
    "list_daerah = [\n",
    "\"jakarta\",\n",
    "\"banten\",\n",
    "\"jawa-barat\",\n",
    "\"jawa-tengah-diy\",\n",
    "\"jawa-timur\",\n",
    "\"kalimantan\",\n",
    "\"sulawesi\",\n",
    "\"bali-nusatenggara\",\n",
    "\"maluku-papua\",\n",
    "\"sumbagsel\",\n",
    "\"sumbagteng\",\n",
    "\"sumbagut\"\n",
    "]"
   ]
  },
  {
   "cell_type": "code",
   "execution_count": 135,
   "metadata": {},
   "outputs": [],
   "source": [
    "# Loop melalui semua peserta\n",
    "def data_district(district):\n",
    "    participants = driver.find_elements(By.CLASS_NAME, \"champion-card\")\n",
    "    district = district\n",
    "\n",
    "    for champion in participants:\n",
    "            # Ambil data dari setiap champion-card\n",
    "            name = champion.find_element(By.CLASS_NAME, \"champion-card-name\").text\n",
    "            school = champion.find_element(By.CLASS_NAME, \"champion-card-school\").text\n",
    "            gpa = champion.find_element(By.CLASS_NAME, \"champion-card-score\").text\n",
    "            image_url = champion.find_element(By.CLASS_NAME, \"profile-champion-image\").get_attribute(\"src\")\n",
    "            username = champion.find_element(By.CLASS_NAME, \"sosmed-label\").text\n",
    "            awards = [award.text for award in champion.find_elements(By.CLASS_NAME, \"honorable-detail\")]\n",
    "            image_url = champion.find_element(By.CLASS_NAME, \"profile-champion-image\").get_attribute(\"src\")\n",
    "            district_name = driver.find_element(By.CLASS_NAME, \"district-city-label\").text\n",
    "\n",
    "            data_list.append({\n",
    "                 \"District\": district,\n",
    "                 \"District Name\": district_name,\n",
    "                \"Name\": name,\n",
    "                \"School\": school,\n",
    "                \"GPA\": gpa,\n",
    "                \"Username\": username,\n",
    "                \"Awards\": awards\n",
    "            })\n",
    "\n",
    "            # Download gambar\n",
    "            image_path = f\"images aoc/Champion/D{district} {name}.png\"\n",
    "            response = requests.get(image_url, stream=True)\n",
    "            if response.status_code == 200:\n",
    "                with open(image_path, 'wb') as file:\n",
    "                    for chunk in response.iter_content(1024):\n",
    "                        file.write(chunk)\n",
    "\n",
    "            # Locate the image element using its class name\n",
    "            dis_image_element = driver.find_element(By.CLASS_NAME,'district-logo')\n",
    "\n",
    "            # Get the image URL from the 'src' attribute\n",
    "            dis_image_url = dis_image_element.get_attribute('src')\n",
    "\n",
    "            # Use requests to download the image\n",
    "            dis_img_data = requests.get(dis_image_url).content\n",
    "\n",
    "            # Save the image to a file\n",
    "            with open(f\"images aoc/Logo/D{district}.png\", \"wb\") as file:\n",
    "                file.write(dis_img_data)\n",
    "\n",
    "            # Locate the image element by its class\n",
    "            main_image_element = driver.find_element(By.CLASS_NAME, 'hero-image.desktop')\n",
    "\n",
    "            # Extract the image URL\n",
    "            main_image_url = main_image_element.get_attribute('src')\n",
    "\n",
    "            # Use requests to download the image\n",
    "            main_img_data = requests.get(main_image_url).content\n",
    "\n",
    "            # Save the image to a local file\n",
    "            with open(f\"images aoc/Main/D{district} Main Image.png\", \"wb\") as file:\n",
    "                file.write(main_img_data)"
   ]
  },
  {
   "cell_type": "code",
   "execution_count": 136,
   "metadata": {},
   "outputs": [],
   "source": [
    "def coach_data(district):\n",
    "            coach_name = driver.find_element(By.CLASS_NAME,'coach-card-name').text\n",
    "            coach_school = driver.find_element(By.CLASS_NAME,'coach-card-school').text\n",
    "            social_media = driver.find_element(By.CLASS_NAME,'sosmed-label').text\n",
    "            image_url = driver.find_element(By.CLASS_NAME,'profile-coach-image').get_attribute('src')\n",
    "\n",
    "            # Honorable mentions - Collect all the honorable mentions listed\n",
    "            honorable_mentions = []\n",
    "            # Now, find the honorable mentions container specifically for the coach\n",
    "            honorable_mentions_container = driver.find_element(By.CLASS_NAME, 'honorable-mentions-container.coach')\n",
    "\n",
    "            # Extract all honorable mentions for the coach\n",
    "            honorable_mentions = []\n",
    "            honorable_details = honorable_mentions_container.find_elements(By.CLASS_NAME, 'honorable-detail')\n",
    "            for mention in honorable_details:\n",
    "                honorable_mentions.append(mention.text)\n",
    "        \n",
    "            # Download and save the image\n",
    "            img_data = requests.get(image_url).content\n",
    "            with open(f'images aoc/Coach/ D{district} {coach_name}.png', 'wb') as files:\n",
    "                files.write(img_data)\n",
    "            \n",
    "            coach_dataset.append({\n",
    "                \"District\": district,\n",
    "                \"District Name\": driver.find_element(By.CLASS_NAME, \"district-city-label\").text,\n",
    "                \"Coach Name\": coach_name,\n",
    "                \"Coach School\": coach_school,\n",
    "                \"Social Media\": social_media,\n",
    "                \"Honorable Mentions\": honorable_mentions\n",
    "            })"
   ]
  },
  {
   "cell_type": "code",
   "execution_count": 98,
   "metadata": {},
   "outputs": [],
   "source": [
    "# Open Chrome Browser\n",
    "driver = webdriver.Chrome(service=service, options=chrome_options)\n"
   ]
  },
  {
   "cell_type": "code",
   "execution_count": 140,
   "metadata": {},
   "outputs": [],
   "source": [
    "coach_dataset = []\n",
    "data_list = []"
   ]
  },
  {
   "cell_type": "code",
   "execution_count": 141,
   "metadata": {},
   "outputs": [],
   "source": [
    "for index,daerah in enumerate(list_daerah,start=1):\n",
    "    url = f\"https://www.ruangguru.com/champions/aoc/{daerah}\"\n",
    "    driver.get(url)\n",
    "    data_district(index)\n",
    "    coach_data(index)"
   ]
  },
  {
   "cell_type": "code",
   "execution_count": 131,
   "metadata": {},
   "outputs": [],
   "source": [
    "coach_dataset = pd.DataFrame(coach_dataset)\n",
    "coach_dataset.to_excel(\"Coach Data.xlsx\", index=False)\n",
    "\n",
    "data_list = pd.DataFrame(data_list)\n",
    "data_list.to_excel(\"Champion Peserta.xlsx\", index=False)"
   ]
  }
 ],
 "metadata": {
  "kernelspec": {
   "display_name": "Python 3",
   "language": "python",
   "name": "python3"
  },
  "language_info": {
   "codemirror_mode": {
    "name": "ipython",
    "version": 3
   },
   "file_extension": ".py",
   "mimetype": "text/x-python",
   "name": "python",
   "nbconvert_exporter": "python",
   "pygments_lexer": "ipython3",
   "version": "3.13.1"
  }
 },
 "nbformat": 4,
 "nbformat_minor": 2
}
